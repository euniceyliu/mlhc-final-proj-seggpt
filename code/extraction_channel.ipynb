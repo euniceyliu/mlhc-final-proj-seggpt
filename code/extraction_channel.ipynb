{
  "nbformat": 4,
  "nbformat_minor": 0,
  "metadata": {
    "colab": {
      "provenance": []
    },
    "kernelspec": {
      "name": "python3",
      "display_name": "Python 3"
    },
    "language_info": {
      "name": "python"
    }
  },
  "cells": [
    {
      "cell_type": "code",
      "execution_count": null,
      "metadata": {
        "colab": {
          "base_uri": "https://localhost:8080/"
        },
        "id": "gVBWLSVrCzgf",
        "outputId": "0b5cf104-e9ae-41d3-acf3-8be9baa2f7b2"
      },
      "outputs": [
        {
          "output_type": "stream",
          "name": "stdout",
          "text": [
            "Mounted at /content/gdrive\n"
          ]
        }
      ],
      "source": [
        "from google.colab import drive\n",
        "drive.mount('/content/gdrive')\n"
      ]
    },
    {
      "cell_type": "code",
      "source": [
        "import tifffile as tiff\n",
        "import imageio\n",
        "\n",
        "# Load the prompt image\n",
        "image = tiff.imread('/content/gdrive/MyDrive/MLHCImages/image_2018-01-28.tiff')\n",
        "\n",
        "# Extract and save the 4th channel (index 3) as a PNG file\n",
        "channel_4 = image[:, :, 3]\n",
        "imageio.imwrite('/content/gdrive/MyDrive/MLHCImages/channel_4_2018-01-28.png', channel_4)\n",
        "\n",
        "# Extract and save the 8th channel (index 7) as a PNG file\n",
        "channel_8 = image[:, :, 7]\n",
        "imageio.imwrite('/content/gdrive/MyDrive/MLHCImages/channel_8_2018-01-28.png', channel_8)"
      ],
      "metadata": {
        "id": "heV7_CAHOLgv"
      },
      "execution_count": null,
      "outputs": []
    }
  ]
}