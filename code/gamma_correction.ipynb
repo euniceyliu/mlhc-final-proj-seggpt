{
  "nbformat": 4,
  "nbformat_minor": 0,
  "metadata": {
    "colab": {
      "provenance": []
    },
    "kernelspec": {
      "name": "python3",
      "display_name": "Python 3"
    },
    "language_info": {
      "name": "python"
    }
  },
  "cells": [
    {
      "cell_type": "code",
      "execution_count": null,
      "metadata": {
        "colab": {
          "base_uri": "https://localhost:8080/"
        },
        "id": "gVBWLSVrCzgf",
        "outputId": "0b5cf104-e9ae-41d3-acf3-8be9baa2f7b2"
      },
      "outputs": [
        {
          "output_type": "stream",
          "name": "stdout",
          "text": [
            "Mounted at /content/gdrive\n"
          ]
        }
      ],
      "source": [
        "from google.colab import drive\n",
        "drive.mount('/content/gdrive')\n"
      ]
    },
    {
      "cell_type": "code",
      "source": [
        "import os\n",
        "from PIL import Image\n",
        "import numpy as np"
      ],
      "metadata": {
        "id": "6EwWfbNZPlOk"
      },
      "execution_count": 1,
      "outputs": []
    },
    {
      "cell_type": "code",
      "source": [
        "\n",
        "def apply_gamma_correction(image, gamma):\n",
        "    \"\"\"\n",
        "    Applies gamma correction to an image using the specified gamma value.\n",
        "\n",
        "    Parameters:\n",
        "        image (PIL.Image): The input image to apply gamma correction on.\n",
        "        gamma (float): The gamma correction value.\n",
        "\n",
        "    Returns:\n",
        "        PIL.Image: The gamma-corrected image.\n",
        "    \"\"\"\n",
        "    # Normalize the pixel values to 0-1\n",
        "    img_normalized = np.array(image) / 255.0\n",
        "    # Apply gamma correction\n",
        "    img_corrected = np.power(img_normalized, gamma)\n",
        "    # Scale back to 0-255 and convert to uint8\n",
        "    img_corrected = np.uint8(img_corrected * 255)\n",
        "    return Image.fromarray(img_corrected)\n"
      ],
      "metadata": {
        "id": "KwK2Ky25DO2w"
      },
      "execution_count": null,
      "outputs": []
    },
    {
      "cell_type": "code",
      "source": [
        "\n",
        "def gamma_correct_images(input_dir, output_dir, gamma):\n",
        "    \"\"\"\n",
        "    Applies gamma correction to all PNG images in a specified input directory\n",
        "    and saves them to the output directory.\n",
        "\n",
        "    Parameters:\n",
        "        input_dir (str): The directory containing images to apply gamma correction.\n",
        "        output_dir (str): The directory to save the gamma-corrected images.\n",
        "        gamma (float): The gamma value to apply.\n",
        "\n",
        "    Returns:\n",
        "        None\n",
        "    \"\"\"\n",
        "    # Create output directory if it doesn't exist\n",
        "    if not os.path.exists(output_dir):\n",
        "        os.makedirs(output_dir)\n",
        "    # Process each file in the input directory\n",
        "    for filename in os.listdir(input_dir):\n",
        "        if filename.endswith(\".png\"):\n",
        "            file_path = os.path.join(input_dir, filename)\n",
        "            image = Image.open(file_path).convert('RGB')\n",
        "            corrected_image = apply_gamma_correction(image, gamma)\n",
        "            corrected_image.save(os.path.join(output_dir, filename))\n",
        "\n"
      ],
      "metadata": {
        "id": "iSjYDre-PqD1"
      },
      "execution_count": null,
      "outputs": []
    },
    {
      "cell_type": "code",
      "source": [
        "# Set your parameters\n",
        "input_directory = '/content/gdrive/MyDrive/MLHCImages/ImagesToTest-rgb'\n",
        "output_directory = '/content/gdrive/MyDrive/MLHCImages/ImagesToTest-gamma'\n",
        "gamma_value = 0.5  # Gamma correction value\n",
        "\n",
        "# Run the gamma correction\n",
        "gamma_correct_images(input_directory, output_directory, gamma_value)\n",
        "\n"
      ],
      "metadata": {
        "id": "vTMuA7U_PrFc"
      },
      "execution_count": null,
      "outputs": []
    }
  ]
}